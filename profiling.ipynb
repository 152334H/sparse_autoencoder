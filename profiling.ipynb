{
    "cells": [
        {
            "cell_type": "markdown",
            "metadata": {},
            "source": [
                "# Sparse Autoencoder Training Demo"
            ]
        },
        {
            "cell_type": "markdown",
            "metadata": {},
            "source": [
                "## Setup"
            ]
        },
        {
            "cell_type": "code",
            "execution_count": 1,
            "metadata": {},
            "outputs": [],
            "source": [
                "# Autoreload\n",
                "%load_ext autoreload\n",
                "%autoreload 2"
            ]
        },
        {
            "cell_type": "code",
            "execution_count": 2,
            "metadata": {},
            "outputs": [],
            "source": [
                "import os\n",
                "from pathlib import Path\n",
                "\n",
                "from hta.trace_analysis import TraceAnalysis\n",
                "import pandas as pd\n",
                "import torch\n",
                "from torch.autograd.profiler_util import FunctionEventAvg\n",
                "from torch.profiler import ProfilerActivity, profile, tensorboard_trace_handler\n",
                "from transformer_lens import HookedTransformer\n",
                "from transformer_lens.utils import get_device\n",
                "from transformers import PreTrainedTokenizerBase\n",
                "import wandb\n",
                "\n",
                "from sparse_autoencoder import SparseAutoencoder, TensorActivationStore, pipeline\n",
                "from sparse_autoencoder.source_data.pile_uncopyrighted import PileUncopyrightedDataset\n",
                "\n",
                "\n",
                "os.environ[\"TOKENIZERS_PARALLELISM\"] = \"false\""
            ]
        },
        {
            "cell_type": "code",
            "execution_count": 3,
            "metadata": {},
            "outputs": [],
            "source": [
                "# device = get_device()\n",
                "device = torch.device(\"cpu\")"
            ]
        },
        {
            "cell_type": "markdown",
            "metadata": {},
            "source": [
                "### Source Model"
            ]
        },
        {
            "cell_type": "code",
            "execution_count": 4,
            "metadata": {},
            "outputs": [
                {
                    "name": "stdout",
                    "output_type": "stream",
                    "text": [
                        "Loaded pretrained model solu-1l into HookedTransformer\n"
                    ]
                },
                {
                    "data": {
                        "text/plain": [
                            "2048"
                        ]
                    },
                    "execution_count": 4,
                    "metadata": {},
                    "output_type": "execute_result"
                }
            ],
            "source": [
                "src_model = HookedTransformer.from_pretrained(\"solu-1l\", dtype=\"float32\")\n",
                "src_model.eval()\n",
                "src_d_mlp: int = src_model.cfg.d_mlp  # type: ignore\n",
                "src_d_mlp"
            ]
        },
        {
            "cell_type": "markdown",
            "metadata": {},
            "source": [
                "### Source Dataset"
            ]
        },
        {
            "cell_type": "code",
            "execution_count": 5,
            "metadata": {},
            "outputs": [
                {
                    "data": {
                        "application/vnd.jupyter.widget-view+json": {
                            "model_id": "496b1c41a1f14aaba7925b20132e14e9",
                            "version_major": 2,
                            "version_minor": 0
                        },
                        "text/plain": [
                            "Resolving data files:   0%|          | 0/30 [00:00<?, ?it/s]"
                        ]
                    },
                    "metadata": {},
                    "output_type": "display_data"
                }
            ],
            "source": [
                "tokenizer: PreTrainedTokenizerBase = src_model.tokenizer  # type: ignore\n",
                "source_data = PileUncopyrightedDataset(tokenizer=tokenizer)"
            ]
        },
        {
            "cell_type": "markdown",
            "metadata": {},
            "source": [
                "### Activation Store"
            ]
        },
        {
            "cell_type": "code",
            "execution_count": 6,
            "metadata": {},
            "outputs": [],
            "source": [
                "max_items = 100_000\n",
                "store = TensorActivationStore(max_items, src_d_mlp, device)"
            ]
        },
        {
            "cell_type": "markdown",
            "metadata": {},
            "source": [
                "### Autoencoder"
            ]
        },
        {
            "cell_type": "code",
            "execution_count": 7,
            "metadata": {},
            "outputs": [
                {
                    "data": {
                        "text/plain": [
                            "2048"
                        ]
                    },
                    "execution_count": 7,
                    "metadata": {},
                    "output_type": "execute_result"
                }
            ],
            "source": [
                "src_d_mlp"
            ]
        },
        {
            "cell_type": "code",
            "execution_count": 8,
            "metadata": {},
            "outputs": [],
            "source": [
                "autoencoder = SparseAutoencoder(src_d_mlp, src_d_mlp * 4, torch.zeros(src_d_mlp))"
            ]
        },
        {
            "cell_type": "markdown",
            "metadata": {},
            "source": [
                "## Training"
            ]
        },
        {
            "cell_type": "markdown",
            "metadata": {},
            "source": [
                "If you initialise [wandb](https://wandb.ai/site), the pipeline will automatically log all metrics to wandb."
            ]
        },
        {
            "cell_type": "code",
            "execution_count": 9,
            "metadata": {},
            "outputs": [],
            "source": [
                "# wandb.init(project=\"sparse-autoencoder\", dir=\".cache/wandb\")"
            ]
        },
        {
            "cell_type": "code",
            "execution_count": 20,
            "metadata": {},
            "outputs": [
                {
                    "name": "stderr",
                    "output_type": "stream",
                    "text": [
                        "STAGE:2023-11-13 07:51:24 60564:2479878 ActivityProfilerController.cpp:312] Completed Stage: Warm Up\n"
                    ]
                },
                {
                    "data": {
                        "application/vnd.jupyter.widget-view+json": {
                            "model_id": "2446a13f151346f19fee997ca8b6a149",
                            "version_major": 2,
                            "version_minor": 0
                        },
                        "text/plain": [
                            "Total activations trained on:   0%|          | 0/100000 [00:00<?, ?it/s, Current mode=initializing]"
                        ]
                    },
                    "metadata": {},
                    "output_type": "display_data"
                },
                {
                    "name": "stderr",
                    "output_type": "stream",
                    "text": [
                        "STAGE:2023-11-13 07:51:44 60564:2479878 ActivityProfilerController.cpp:318] Completed Stage: Collection\n",
                        "STAGE:2023-11-13 07:51:45 60564:2479878 ActivityProfilerController.cpp:322] Completed Stage: Post Processing\n"
                    ]
                }
            ],
            "source": [
                "export_dir = Path(\"./.profile\")\n",
                "trace_handler = tensorboard_trace_handler(dir_name=str(export_dir))\n",
                "\n",
                "with profile(\n",
                "    activities=[\n",
                "        ProfilerActivity.CPU,\n",
                "    ],\n",
                "    # on_trace_ready=trace_handler,\n",
                "    profile_memory=True,\n",
                "    record_shapes=True,\n",
                "    with_stack=True,\n",
                ") as profiler:\n",
                "    pipeline(\n",
                "        src_model=src_model,\n",
                "        src_model_activation_hook_point=\"blocks.0.mlp.hook_post\",\n",
                "        src_model_activation_layer=0,\n",
                "        source_dataset=source_data,\n",
                "        activation_store=store,\n",
                "        num_activations_before_training=max_items,\n",
                "        autoencoder=autoencoder,\n",
                "        device=device,\n",
                "        max_activations=100_000,\n",
                "    )"
            ]
        },
        {
            "cell_type": "code",
            "execution_count": 21,
            "metadata": {},
            "outputs": [
                {
                    "name": "stdout",
                    "output_type": "stream",
                    "text": [
                        "Total used memory: 69491 MB\n",
                        "Store memory: 781 MB\n",
                        "Difference: 68710 MB\n"
                    ]
                },
                {
                    "data": {
                        "text/html": [
                            "<div>\n",
                            "<style scoped>\n",
                            "    .dataframe tbody tr th:only-of-type {\n",
                            "        vertical-align: middle;\n",
                            "    }\n",
                            "\n",
                            "    .dataframe tbody tr th {\n",
                            "        vertical-align: top;\n",
                            "    }\n",
                            "\n",
                            "    .dataframe thead th {\n",
                            "        text-align: right;\n",
                            "    }\n",
                            "</style>\n",
                            "<table border=\"1\" class=\"dataframe\">\n",
                            "  <thead>\n",
                            "    <tr style=\"text-align: right;\">\n",
                            "      <th></th>\n",
                            "      <th>Memory usage (MB per batch)</th>\n",
                            "      <th>Percentage</th>\n",
                            "    </tr>\n",
                            "  </thead>\n",
                            "  <tbody>\n",
                            "    <tr>\n",
                            "      <th>aten::div</th>\n",
                            "      <td>7908.0</td>\n",
                            "      <td>11.0</td>\n",
                            "    </tr>\n",
                            "    <tr>\n",
                            "      <th>aten::mm</th>\n",
                            "      <td>7888.0</td>\n",
                            "      <td>11.0</td>\n",
                            "    </tr>\n",
                            "    <tr>\n",
                            "      <th>aten::empty_strided</th>\n",
                            "      <td>6542.0</td>\n",
                            "      <td>9.0</td>\n",
                            "    </tr>\n",
                            "    <tr>\n",
                            "      <th>aten::mul</th>\n",
                            "      <td>5507.0</td>\n",
                            "      <td>8.0</td>\n",
                            "    </tr>\n",
                            "    <tr>\n",
                            "      <th>aten::sub</th>\n",
                            "      <td>3944.0</td>\n",
                            "      <td>6.0</td>\n",
                            "    </tr>\n",
                            "    <tr>\n",
                            "      <th>aten::add</th>\n",
                            "      <td>3455.0</td>\n",
                            "      <td>5.0</td>\n",
                            "    </tr>\n",
                            "    <tr>\n",
                            "      <th>aten::sqrt</th>\n",
                            "      <td>3203.0</td>\n",
                            "      <td>5.0</td>\n",
                            "    </tr>\n",
                            "    <tr>\n",
                            "      <th>aten::clamp_min</th>\n",
                            "      <td>3125.0</td>\n",
                            "      <td>4.0</td>\n",
                            "    </tr>\n",
                            "    <tr>\n",
                            "      <th>aten::addmm</th>\n",
                            "      <td>3125.0</td>\n",
                            "      <td>4.0</td>\n",
                            "    </tr>\n",
                            "    <tr>\n",
                            "      <th>aten::threshold_backward</th>\n",
                            "      <td>3125.0</td>\n",
                            "      <td>4.0</td>\n",
                            "    </tr>\n",
                            "    <tr>\n",
                            "      <th>aten::sgn</th>\n",
                            "      <td>3125.0</td>\n",
                            "      <td>4.0</td>\n",
                            "    </tr>\n",
                            "    <tr>\n",
                            "      <th>aten::abs</th>\n",
                            "      <td>3125.0</td>\n",
                            "      <td>4.0</td>\n",
                            "    </tr>\n",
                            "    <tr>\n",
                            "      <th>aten::bmm</th>\n",
                            "      <td>2060.0</td>\n",
                            "      <td>3.0</td>\n",
                            "    </tr>\n",
                            "    <tr>\n",
                            "      <th>aten::copy_</th>\n",
                            "      <td>1550.0</td>\n",
                            "      <td>2.0</td>\n",
                            "    </tr>\n",
                            "    <tr>\n",
                            "      <th>aten::_softmax</th>\n",
                            "      <td>1544.0</td>\n",
                            "      <td>2.0</td>\n",
                            "    </tr>\n",
                            "    <tr>\n",
                            "      <th>aten::where</th>\n",
                            "      <td>1526.0</td>\n",
                            "      <td>2.0</td>\n",
                            "    </tr>\n",
                            "    <tr>\n",
                            "      <th>aten::pow</th>\n",
                            "      <td>1477.0</td>\n",
                            "      <td>2.0</td>\n",
                            "    </tr>\n",
                            "    <tr>\n",
                            "      <th>aten::empty</th>\n",
                            "      <td>1205.0</td>\n",
                            "      <td>2.0</td>\n",
                            "    </tr>\n",
                            "    <tr>\n",
                            "      <th>aten::index</th>\n",
                            "      <td>977.0</td>\n",
                            "      <td>1.0</td>\n",
                            "    </tr>\n",
                            "    <tr>\n",
                            "      <th>aten::empty_like</th>\n",
                            "      <td>914.0</td>\n",
                            "      <td>1.0</td>\n",
                            "    </tr>\n",
                            "    <tr>\n",
                            "      <th>aten::cat</th>\n",
                            "      <td>783.0</td>\n",
                            "      <td>1.0</td>\n",
                            "    </tr>\n",
                            "    <tr>\n",
                            "      <th>aten::mse_loss</th>\n",
                            "      <td>781.0</td>\n",
                            "      <td>1.0</td>\n",
                            "    </tr>\n",
                            "    <tr>\n",
                            "      <th>aten::neg</th>\n",
                            "      <td>781.0</td>\n",
                            "      <td>1.0</td>\n",
                            "    </tr>\n",
                            "    <tr>\n",
                            "      <th>aten::gt</th>\n",
                            "      <td>749.0</td>\n",
                            "      <td>1.0</td>\n",
                            "    </tr>\n",
                            "    <tr>\n",
                            "      <th>aten::resolve_conj</th>\n",
                            "      <td>657.0</td>\n",
                            "      <td>1.0</td>\n",
                            "    </tr>\n",
                            "    <tr>\n",
                            "      <th>aten::ne</th>\n",
                            "      <td>191.0</td>\n",
                            "      <td>0.0</td>\n",
                            "    </tr>\n",
                            "    <tr>\n",
                            "      <th>aten::fill_</th>\n",
                            "      <td>128.0</td>\n",
                            "      <td>0.0</td>\n",
                            "    </tr>\n",
                            "    <tr>\n",
                            "      <th>aten::to</th>\n",
                            "      <td>56.0</td>\n",
                            "      <td>0.0</td>\n",
                            "    </tr>\n",
                            "    <tr>\n",
                            "      <th>aten::softmax</th>\n",
                            "      <td>31.0</td>\n",
                            "      <td>0.0</td>\n",
                            "    </tr>\n",
                            "    <tr>\n",
                            "      <th>aten::isnan</th>\n",
                            "      <td>8.0</td>\n",
                            "      <td>0.0</td>\n",
                            "    </tr>\n",
                            "    <tr>\n",
                            "      <th>aten::randperm</th>\n",
                            "      <td>1.0</td>\n",
                            "      <td>0.0</td>\n",
                            "    </tr>\n",
                            "  </tbody>\n",
                            "</table>\n",
                            "</div>"
                        ],
                        "text/plain": [
                            "                          Memory usage (MB per batch)  Percentage\n",
                            "aten::div                                      7908.0        11.0\n",
                            "aten::mm                                       7888.0        11.0\n",
                            "aten::empty_strided                            6542.0         9.0\n",
                            "aten::mul                                      5507.0         8.0\n",
                            "aten::sub                                      3944.0         6.0\n",
                            "aten::add                                      3455.0         5.0\n",
                            "aten::sqrt                                     3203.0         5.0\n",
                            "aten::clamp_min                                3125.0         4.0\n",
                            "aten::addmm                                    3125.0         4.0\n",
                            "aten::threshold_backward                       3125.0         4.0\n",
                            "aten::sgn                                      3125.0         4.0\n",
                            "aten::abs                                      3125.0         4.0\n",
                            "aten::bmm                                      2060.0         3.0\n",
                            "aten::copy_                                    1550.0         2.0\n",
                            "aten::_softmax                                 1544.0         2.0\n",
                            "aten::where                                    1526.0         2.0\n",
                            "aten::pow                                      1477.0         2.0\n",
                            "aten::empty                                    1205.0         2.0\n",
                            "aten::index                                     977.0         1.0\n",
                            "aten::empty_like                                914.0         1.0\n",
                            "aten::cat                                       783.0         1.0\n",
                            "aten::mse_loss                                  781.0         1.0\n",
                            "aten::neg                                       781.0         1.0\n",
                            "aten::gt                                        749.0         1.0\n",
                            "aten::resolve_conj                              657.0         1.0\n",
                            "aten::ne                                        191.0         0.0\n",
                            "aten::fill_                                     128.0         0.0\n",
                            "aten::to                                         56.0         0.0\n",
                            "aten::softmax                                    31.0         0.0\n",
                            "aten::isnan                                       8.0         0.0\n",
                            "aten::randperm                                    1.0         0.0"
                        ]
                    },
                    "execution_count": 21,
                    "metadata": {},
                    "output_type": "execute_result"
                }
            ],
            "source": [
                "train_profile: profile = profiler\n",
                "\n",
                "batches = 1\n",
                "data = {}\n",
                "\n",
                "for item in train_profile.key_averages():\n",
                "    item: FunctionEventAvg = item\n",
                "    name = item.key\n",
                "    memory = item.self_cpu_memory_usage\n",
                "    data[name] = memory\n",
                "\n",
                "profile_dataframe = pd.Series(data)\n",
                "profile_dataframe = profile_dataframe.sort_values(\n",
                "    ascending=False\n",
                ")  # Order by memory usage\n",
                "profile_dataframe = profile_dataframe / 1024 / 1024  # Convert to MB\n",
                "profile_dataframe = profile_dataframe / batches  # Average over batches\n",
                "profile_dataframe = profile_dataframe.round(0)\n",
                "profile_dataframe = profile_dataframe[\n",
                "    profile_dataframe > 0\n",
                "]  # Filter to positive only (not deallocations)\n",
                "profile_dataframe.name = \"Memory usage (MB per batch)\"\n",
                "total = profile_dataframe.sum()\n",
                "\n",
                "store_memory = max_items * src_d_mlp * 4 / 1024 / 1024\n",
                "print(f\"Total used memory: {total:.0f} MB\")\n",
                "print(f\"Store memory: {store_memory:.0f} MB\")\n",
                "print(f\"Difference: {(total - store_memory/batches):.0f} MB\")\n",
                "\n",
                "# Add a percentage column\n",
                "profile_dataframe = profile_dataframe.to_frame()\n",
                "profile_dataframe[\"Percentage\"] = profile_dataframe / total * 100\n",
                "profile_dataframe[\"Percentage\"] = profile_dataframe[\"Percentage\"].round(0)\n",
                "\n",
                "# Export\n",
                "export_dir.mkdir(exist_ok=True)\n",
                "chrome_trace_path = export_dir / \"chrome-trace.json\"\n",
                "memory_timeline_path = export_dir / \"memory-timeline.stacks\"\n",
                "chrome_trace_path.unlink(missing_ok=True)\n",
                "memory_timeline_path.unlink(missing_ok=True)\n",
                "\n",
                "# profiler.export_chrome_trace(str(chrome_trace_path))\n",
                "profiler.export_memory_timeline(str(memory_timeline_path))\n",
                "\n",
                "\n",
                "# # Print\n",
                "profile_dataframe"
            ]
        },
        {
            "cell_type": "code",
            "execution_count": 22,
            "metadata": {},
            "outputs": [
                {
                    "name": "stdout",
                    "output_type": "stream",
                    "text": [
                        "2023-11-13 07:53:10,316 - hta - trace.py:L389 - INFO - .profile\n"
                    ]
                },
                {
                    "name": "stdout",
                    "output_type": "stream",
                    "text": [
                        "2023-11-13 07:53:12,465 - hta - trace_file.py:L61 - ERROR - If the trace file does not have the rank specified in it, then add the following snippet key to the json files to use HTA; \"distributedInfo\": {\"rank\": 0}. If there are multiple traces files, then each file should have a unique rank value.\n",
                        "2023-11-13 07:53:12,465 - hta - trace_file.py:L94 - INFO - Rank to trace file map:\n",
                        "{0: '.profile/Alans-MacBook-Pro.local_60564.1699832504856162000.pt.trace.json'}\n",
                        "2023-11-13 07:53:12,466 - hta - trace.py:L535 - INFO - ranks=[0]\n",
                        "2023-11-13 07:53:23,793 - hta - trace.py:L118 - INFO - Parsed .profile/Alans-MacBook-Pro.local_60564.1699832504856162000.pt.trace.json time = 11.33 seconds \n"
                    ]
                },
                {
                    "ename": "KeyboardInterrupt",
                    "evalue": "",
                    "output_type": "error",
                    "traceback": [
                        "\u001b[0;31m---------------------------------------------------------------------------\u001b[0m",
                        "\u001b[0;31mKeyboardInterrupt\u001b[0m                         Traceback (most recent call last)",
                        "\u001b[1;32m/Users/alan/Documents/Repos/sparse_autoencoder/demo.ipynb Cell 20\u001b[0m line \u001b[0;36m1\n\u001b[0;32m----> <a href='vscode-notebook-cell:/Users/alan/Documents/Repos/sparse_autoencoder/demo.ipynb#X26sZmlsZQ%3D%3D?line=0'>1</a>\u001b[0m analyzer \u001b[39m=\u001b[39m TraceAnalysis(trace_dir\u001b[39m=\u001b[39;49m\u001b[39mstr\u001b[39;49m(export_dir))\n\u001b[1;32m      <a href='vscode-notebook-cell:/Users/alan/Documents/Repos/sparse_autoencoder/demo.ipynb#X26sZmlsZQ%3D%3D?line=2'>3</a>\u001b[0m \u001b[39m# Temporal breakdown\u001b[39;00m\n\u001b[1;32m      <a href='vscode-notebook-cell:/Users/alan/Documents/Repos/sparse_autoencoder/demo.ipynb#X26sZmlsZQ%3D%3D?line=3'>4</a>\u001b[0m \u001b[39m# temporal_breakdown_df = analyzer.get_temporal_breakdown()\u001b[39;00m\n\u001b[1;32m      <a href='vscode-notebook-cell:/Users/alan/Documents/Repos/sparse_autoencoder/demo.ipynb#X26sZmlsZQ%3D%3D?line=4'>5</a>\u001b[0m \u001b[39m# temporal_breakdown_df\u001b[39;00m\n\u001b[0;32m   (...)\u001b[0m\n\u001b[1;32m     <a href='vscode-notebook-cell:/Users/alan/Documents/Repos/sparse_autoencoder/demo.ipynb#X26sZmlsZQ%3D%3D?line=16'>17</a>\u001b[0m \n\u001b[1;32m     <a href='vscode-notebook-cell:/Users/alan/Documents/Repos/sparse_autoencoder/demo.ipynb#X26sZmlsZQ%3D%3D?line=17'>18</a>\u001b[0m \u001b[39m# # Memory bandwidth summary\u001b[39;00m\n\u001b[1;32m     <a href='vscode-notebook-cell:/Users/alan/Documents/Repos/sparse_autoencoder/demo.ipynb#X26sZmlsZQ%3D%3D?line=18'>19</a>\u001b[0m memory_bw_summary \u001b[39m=\u001b[39m analyzer\u001b[39m.\u001b[39mget_memory_bw_summary()\n",
                        "File \u001b[0;32m~/Documents/Repos/sparse_autoencoder/.venv/lib/python3.11/site-packages/hta/trace_analysis.py:35\u001b[0m, in \u001b[0;36mTraceAnalysis.__init__\u001b[0;34m(self, trace_files, trace_dir)\u001b[0m\n\u001b[1;32m     29\u001b[0m \u001b[39mdef\u001b[39;00m \u001b[39m__init__\u001b[39m(\n\u001b[1;32m     30\u001b[0m     \u001b[39mself\u001b[39m,\n\u001b[1;32m     31\u001b[0m     trace_files: Optional[Dict[\u001b[39mint\u001b[39m, \u001b[39mstr\u001b[39m]] \u001b[39m=\u001b[39m \u001b[39mNone\u001b[39;00m,\n\u001b[1;32m     32\u001b[0m     trace_dir: \u001b[39mstr\u001b[39m \u001b[39m=\u001b[39m DEFAULT_TRACE_DIR,\n\u001b[1;32m     33\u001b[0m ):\n\u001b[1;32m     34\u001b[0m     \u001b[39mself\u001b[39m\u001b[39m.\u001b[39mt \u001b[39m=\u001b[39m Trace(trace_files, trace_dir)\n\u001b[0;32m---> 35\u001b[0m     \u001b[39mself\u001b[39;49m\u001b[39m.\u001b[39;49mt\u001b[39m.\u001b[39;49mload_traces()\n\u001b[1;32m     36\u001b[0m     \u001b[39massert\u001b[39;00m \u001b[39mself\u001b[39m\u001b[39m.\u001b[39mt\u001b[39m.\u001b[39mis_parsed \u001b[39mis\u001b[39;00m \u001b[39mTrue\u001b[39;00m\n",
                        "File \u001b[0;32m~/Documents/Repos/sparse_autoencoder/.venv/lib/python3.11/site-packages/hta/common/trace.py:413\u001b[0m, in \u001b[0;36mTrace.load_traces\u001b[0;34m(self)\u001b[0m\n\u001b[1;32m    411\u001b[0m     logger\u001b[39m.\u001b[39mwarning(\u001b[39m\"\u001b[39m\u001b[39mTraces are already parsed and loaded!\u001b[39m\u001b[39m\"\u001b[39m)\n\u001b[1;32m    412\u001b[0m     \u001b[39mreturn\u001b[39;00m\n\u001b[0;32m--> 413\u001b[0m \u001b[39mself\u001b[39;49m\u001b[39m.\u001b[39;49mparse_traces()\n\u001b[1;32m    414\u001b[0m \u001b[39mself\u001b[39m\u001b[39m.\u001b[39malign_and_filter_trace()\n\u001b[1;32m    415\u001b[0m \u001b[39mfor\u001b[39;00m rank, trace_df \u001b[39min\u001b[39;00m \u001b[39mself\u001b[39m\u001b[39m.\u001b[39mtraces\u001b[39m.\u001b[39mitems():\n",
                        "File \u001b[0;32m~/Documents/Repos/sparse_autoencoder/.venv/lib/python3.11/site-packages/hta/common/trace.py:538\u001b[0m, in \u001b[0;36mTrace.parse_traces\u001b[0;34m(self, max_ranks, use_multiprocessing)\u001b[0m\n\u001b[1;32m    535\u001b[0m logger\u001b[39m.\u001b[39minfo(\u001b[39mf\u001b[39m\u001b[39m\"\u001b[39m\u001b[39mranks=\u001b[39m\u001b[39m{\u001b[39;00mranks\u001b[39m}\u001b[39;00m\u001b[39m\"\u001b[39m)\n\u001b[1;32m    537\u001b[0m \u001b[39mif\u001b[39;00m \u001b[39mlen\u001b[39m(ranks) \u001b[39m>\u001b[39m \u001b[39m0\u001b[39m:\n\u001b[0;32m--> 538\u001b[0m     \u001b[39mself\u001b[39;49m\u001b[39m.\u001b[39;49mparse_multiple_ranks(ranks, use_multiprocessing \u001b[39mand\u001b[39;49;00m \u001b[39mlen\u001b[39;49m(ranks) \u001b[39m>\u001b[39;49m \u001b[39m1\u001b[39;49m)\n\u001b[1;32m    539\u001b[0m     \u001b[39mself\u001b[39m\u001b[39m.\u001b[39mis_parsed \u001b[39m=\u001b[39m \u001b[39mTrue\u001b[39;00m\n\u001b[1;32m    540\u001b[0m \u001b[39melse\u001b[39;00m:\n",
                        "File \u001b[0;32m~/Documents/Repos/sparse_autoencoder/.venv/lib/python3.11/site-packages/hta/common/trace.py:465\u001b[0m, in \u001b[0;36mTrace.parse_multiple_ranks\u001b[0;34m(self, ranks, use_multiprocessing)\u001b[0m\n\u001b[1;32m    463\u001b[0m \u001b[39mfor\u001b[39;00m rank \u001b[39min\u001b[39;00m ranks:\n\u001b[1;32m    464\u001b[0m     logger\u001b[39m.\u001b[39mdebug(\u001b[39mf\u001b[39m\u001b[39m\"\u001b[39m\u001b[39mparsing trace for rank-\u001b[39m\u001b[39m{\u001b[39;00mrank\u001b[39m}\u001b[39;00m\u001b[39m\"\u001b[39m)\n\u001b[0;32m--> 465\u001b[0m     result \u001b[39m=\u001b[39m parse_trace_dataframe(\u001b[39mself\u001b[39;49m\u001b[39m.\u001b[39;49mtrace_files[rank])\n\u001b[1;32m    466\u001b[0m     \u001b[39mself\u001b[39m\u001b[39m.\u001b[39mmeta_data[rank], \u001b[39mself\u001b[39m\u001b[39m.\u001b[39mtraces[rank], local_symbol_tables[rank] \u001b[39m=\u001b[39m (\n\u001b[1;32m    467\u001b[0m         result[\u001b[39m0\u001b[39m],\n\u001b[1;32m    468\u001b[0m         result[\u001b[39m1\u001b[39m],\n\u001b[1;32m    469\u001b[0m         result[\u001b[39m2\u001b[39m],\n\u001b[1;32m    470\u001b[0m     )\n\u001b[1;32m    471\u001b[0m     \u001b[39mself\u001b[39m\u001b[39m.\u001b[39msymbol_table\u001b[39m.\u001b[39madd_symbols(local_symbol_tables[rank]\u001b[39m.\u001b[39mget_sym_table())\n",
                        "File \u001b[0;32m~/Documents/Repos/sparse_autoencoder/.venv/lib/python3.11/site-packages/hta/common/trace.py:344\u001b[0m, in \u001b[0;36mparse_trace_dataframe\u001b[0;34m(trace_file_path)\u001b[0m\n\u001b[1;32m    342\u001b[0m \u001b[39mif\u001b[39;00m \u001b[39m\"\u001b[39m\u001b[39mtraceEvents\u001b[39m\u001b[39m\"\u001b[39m \u001b[39min\u001b[39;00m trace_record:\n\u001b[1;32m    343\u001b[0m     df \u001b[39m=\u001b[39m pd\u001b[39m.\u001b[39mDataFrame(trace_record[\u001b[39m\"\u001b[39m\u001b[39mtraceEvents\u001b[39m\u001b[39m\"\u001b[39m])\n\u001b[0;32m--> 344\u001b[0m     df, local_symbol_table \u001b[39m=\u001b[39m compress_df(df)\n\u001b[1;32m    345\u001b[0m     transform_correlation_to_index(df)\n\u001b[1;32m    346\u001b[0m     add_iteration(df, local_symbol_table)\n",
                        "File \u001b[0;32m~/Documents/Repos/sparse_autoencoder/.venv/lib/python3.11/site-packages/hta/common/trace.py:161\u001b[0m, in \u001b[0;36mcompress_df\u001b[0;34m(df)\u001b[0m\n\u001b[1;32m    158\u001b[0m     args_to_keep \u001b[39m=\u001b[39m args_to_keep\u001b[39m.\u001b[39munion(counter_names)\n\u001b[1;32m    160\u001b[0m \u001b[39mfor\u001b[39;00m arg \u001b[39min\u001b[39;00m args_to_keep:\n\u001b[0;32m--> 161\u001b[0m     df[arg] \u001b[39m=\u001b[39m df[\u001b[39m\"\u001b[39;49m\u001b[39margs\u001b[39;49m\u001b[39m\"\u001b[39;49m]\u001b[39m.\u001b[39;49mapply(\n\u001b[1;32m    162\u001b[0m         \u001b[39mlambda\u001b[39;49;00m row: row\u001b[39m.\u001b[39;49mget(arg, \u001b[39m-\u001b[39;49m\u001b[39m1\u001b[39;49m) \u001b[39mif\u001b[39;49;00m \u001b[39misinstance\u001b[39;49m(row, \u001b[39mdict\u001b[39;49m) \u001b[39melse\u001b[39;49;00m \u001b[39m-\u001b[39;49m\u001b[39m1\u001b[39;49m\n\u001b[1;32m    163\u001b[0m     )\n\u001b[1;32m    164\u001b[0m df\u001b[39m.\u001b[39mdrop([\u001b[39m\"\u001b[39m\u001b[39margs\u001b[39m\u001b[39m\"\u001b[39m], axis\u001b[39m=\u001b[39m\u001b[39m1\u001b[39m, inplace\u001b[39m=\u001b[39m\u001b[39mTrue\u001b[39;00m)\n\u001b[1;32m    165\u001b[0m df\u001b[39m.\u001b[39mrename(columns\u001b[39m=\u001b[39m{\u001b[39m\"\u001b[39m\u001b[39mmemory bandwidth (GB/s)\u001b[39m\u001b[39m\"\u001b[39m: \u001b[39m\"\u001b[39m\u001b[39mmemory_bw_gbps\u001b[39m\u001b[39m\"\u001b[39m}, inplace\u001b[39m=\u001b[39m\u001b[39mTrue\u001b[39;00m)\n",
                        "File \u001b[0;32m~/Documents/Repos/sparse_autoencoder/.venv/lib/python3.11/site-packages/pandas/core/series.py:4760\u001b[0m, in \u001b[0;36mSeries.apply\u001b[0;34m(self, func, convert_dtype, args, by_row, **kwargs)\u001b[0m\n\u001b[1;32m   4625\u001b[0m \u001b[39mdef\u001b[39;00m \u001b[39mapply\u001b[39m(\n\u001b[1;32m   4626\u001b[0m     \u001b[39mself\u001b[39m,\n\u001b[1;32m   4627\u001b[0m     func: AggFuncType,\n\u001b[0;32m   (...)\u001b[0m\n\u001b[1;32m   4632\u001b[0m     \u001b[39m*\u001b[39m\u001b[39m*\u001b[39mkwargs,\n\u001b[1;32m   4633\u001b[0m ) \u001b[39m-\u001b[39m\u001b[39m>\u001b[39m DataFrame \u001b[39m|\u001b[39m Series:\n\u001b[1;32m   4634\u001b[0m \u001b[39m    \u001b[39m\u001b[39m\"\"\"\u001b[39;00m\n\u001b[1;32m   4635\u001b[0m \u001b[39m    Invoke function on values of Series.\u001b[39;00m\n\u001b[1;32m   4636\u001b[0m \n\u001b[0;32m   (...)\u001b[0m\n\u001b[1;32m   4751\u001b[0m \u001b[39m    dtype: float64\u001b[39;00m\n\u001b[1;32m   4752\u001b[0m \u001b[39m    \"\"\"\u001b[39;00m\n\u001b[1;32m   4753\u001b[0m     \u001b[39mreturn\u001b[39;00m SeriesApply(\n\u001b[1;32m   4754\u001b[0m         \u001b[39mself\u001b[39;49m,\n\u001b[1;32m   4755\u001b[0m         func,\n\u001b[1;32m   4756\u001b[0m         convert_dtype\u001b[39m=\u001b[39;49mconvert_dtype,\n\u001b[1;32m   4757\u001b[0m         by_row\u001b[39m=\u001b[39;49mby_row,\n\u001b[1;32m   4758\u001b[0m         args\u001b[39m=\u001b[39;49margs,\n\u001b[1;32m   4759\u001b[0m         kwargs\u001b[39m=\u001b[39;49mkwargs,\n\u001b[0;32m-> 4760\u001b[0m     )\u001b[39m.\u001b[39;49mapply()\n",
                        "File \u001b[0;32m~/Documents/Repos/sparse_autoencoder/.venv/lib/python3.11/site-packages/pandas/core/apply.py:1207\u001b[0m, in \u001b[0;36mSeriesApply.apply\u001b[0;34m(self)\u001b[0m\n\u001b[1;32m   1204\u001b[0m     \u001b[39mreturn\u001b[39;00m \u001b[39mself\u001b[39m\u001b[39m.\u001b[39mapply_compat()\n\u001b[1;32m   1206\u001b[0m \u001b[39m# self.func is Callable\u001b[39;00m\n\u001b[0;32m-> 1207\u001b[0m \u001b[39mreturn\u001b[39;00m \u001b[39mself\u001b[39;49m\u001b[39m.\u001b[39;49mapply_standard()\n",
                        "File \u001b[0;32m~/Documents/Repos/sparse_autoencoder/.venv/lib/python3.11/site-packages/pandas/core/apply.py:1287\u001b[0m, in \u001b[0;36mSeriesApply.apply_standard\u001b[0;34m(self)\u001b[0m\n\u001b[1;32m   1281\u001b[0m \u001b[39m# row-wise access\u001b[39;00m\n\u001b[1;32m   1282\u001b[0m \u001b[39m# apply doesn't have a `na_action` keyword and for backward compat reasons\u001b[39;00m\n\u001b[1;32m   1283\u001b[0m \u001b[39m# we need to give `na_action=\"ignore\"` for categorical data.\u001b[39;00m\n\u001b[1;32m   1284\u001b[0m \u001b[39m# TODO: remove the `na_action=\"ignore\"` when that default has been changed in\u001b[39;00m\n\u001b[1;32m   1285\u001b[0m \u001b[39m#  Categorical (GH51645).\u001b[39;00m\n\u001b[1;32m   1286\u001b[0m action \u001b[39m=\u001b[39m \u001b[39m\"\u001b[39m\u001b[39mignore\u001b[39m\u001b[39m\"\u001b[39m \u001b[39mif\u001b[39;00m \u001b[39misinstance\u001b[39m(obj\u001b[39m.\u001b[39mdtype, CategoricalDtype) \u001b[39melse\u001b[39;00m \u001b[39mNone\u001b[39;00m\n\u001b[0;32m-> 1287\u001b[0m mapped \u001b[39m=\u001b[39m obj\u001b[39m.\u001b[39;49m_map_values(\n\u001b[1;32m   1288\u001b[0m     mapper\u001b[39m=\u001b[39;49mcurried, na_action\u001b[39m=\u001b[39;49maction, convert\u001b[39m=\u001b[39;49m\u001b[39mself\u001b[39;49m\u001b[39m.\u001b[39;49mconvert_dtype\n\u001b[1;32m   1289\u001b[0m )\n\u001b[1;32m   1291\u001b[0m \u001b[39mif\u001b[39;00m \u001b[39mlen\u001b[39m(mapped) \u001b[39mand\u001b[39;00m \u001b[39misinstance\u001b[39m(mapped[\u001b[39m0\u001b[39m], ABCSeries):\n\u001b[1;32m   1292\u001b[0m     \u001b[39m# GH#43986 Need to do list(mapped) in order to get treated as nested\u001b[39;00m\n\u001b[1;32m   1293\u001b[0m     \u001b[39m#  See also GH#25959 regarding EA support\u001b[39;00m\n\u001b[1;32m   1294\u001b[0m     \u001b[39mreturn\u001b[39;00m obj\u001b[39m.\u001b[39m_constructor_expanddim(\u001b[39mlist\u001b[39m(mapped), index\u001b[39m=\u001b[39mobj\u001b[39m.\u001b[39mindex)\n",
                        "File \u001b[0;32m~/Documents/Repos/sparse_autoencoder/.venv/lib/python3.11/site-packages/pandas/core/base.py:921\u001b[0m, in \u001b[0;36mIndexOpsMixin._map_values\u001b[0;34m(self, mapper, na_action, convert)\u001b[0m\n\u001b[1;32m    918\u001b[0m \u001b[39mif\u001b[39;00m \u001b[39misinstance\u001b[39m(arr, ExtensionArray):\n\u001b[1;32m    919\u001b[0m     \u001b[39mreturn\u001b[39;00m arr\u001b[39m.\u001b[39mmap(mapper, na_action\u001b[39m=\u001b[39mna_action)\n\u001b[0;32m--> 921\u001b[0m \u001b[39mreturn\u001b[39;00m algorithms\u001b[39m.\u001b[39;49mmap_array(arr, mapper, na_action\u001b[39m=\u001b[39;49mna_action, convert\u001b[39m=\u001b[39;49mconvert)\n",
                        "File \u001b[0;32m~/Documents/Repos/sparse_autoencoder/.venv/lib/python3.11/site-packages/pandas/core/algorithms.py:1814\u001b[0m, in \u001b[0;36mmap_array\u001b[0;34m(arr, mapper, na_action, convert)\u001b[0m\n\u001b[1;32m   1812\u001b[0m values \u001b[39m=\u001b[39m arr\u001b[39m.\u001b[39mastype(\u001b[39mobject\u001b[39m, copy\u001b[39m=\u001b[39m\u001b[39mFalse\u001b[39;00m)\n\u001b[1;32m   1813\u001b[0m \u001b[39mif\u001b[39;00m na_action \u001b[39mis\u001b[39;00m \u001b[39mNone\u001b[39;00m:\n\u001b[0;32m-> 1814\u001b[0m     \u001b[39mreturn\u001b[39;00m lib\u001b[39m.\u001b[39;49mmap_infer(values, mapper, convert\u001b[39m=\u001b[39;49mconvert)\n\u001b[1;32m   1815\u001b[0m \u001b[39melse\u001b[39;00m:\n\u001b[1;32m   1816\u001b[0m     \u001b[39mreturn\u001b[39;00m lib\u001b[39m.\u001b[39mmap_infer_mask(\n\u001b[1;32m   1817\u001b[0m         values, mapper, mask\u001b[39m=\u001b[39misna(values)\u001b[39m.\u001b[39mview(np\u001b[39m.\u001b[39muint8), convert\u001b[39m=\u001b[39mconvert\n\u001b[1;32m   1818\u001b[0m     )\n",
                        "File \u001b[0;32mlib.pyx:2920\u001b[0m, in \u001b[0;36mpandas._libs.lib.map_infer\u001b[0;34m()\u001b[0m\n",
                        "File \u001b[0;32m~/Documents/Repos/sparse_autoencoder/.venv/lib/python3.11/site-packages/hta/common/trace.py:162\u001b[0m, in \u001b[0;36mcompress_df.<locals>.<lambda>\u001b[0;34m(row)\u001b[0m\n\u001b[1;32m    158\u001b[0m     args_to_keep \u001b[39m=\u001b[39m args_to_keep\u001b[39m.\u001b[39munion(counter_names)\n\u001b[1;32m    160\u001b[0m \u001b[39mfor\u001b[39;00m arg \u001b[39min\u001b[39;00m args_to_keep:\n\u001b[1;32m    161\u001b[0m     df[arg] \u001b[39m=\u001b[39m df[\u001b[39m\"\u001b[39m\u001b[39margs\u001b[39m\u001b[39m\"\u001b[39m]\u001b[39m.\u001b[39mapply(\n\u001b[0;32m--> 162\u001b[0m         \u001b[39mlambda\u001b[39;00m row: row\u001b[39m.\u001b[39mget(arg, \u001b[39m-\u001b[39m\u001b[39m1\u001b[39m) \u001b[39mif\u001b[39;00m \u001b[39misinstance\u001b[39m(row, \u001b[39mdict\u001b[39m) \u001b[39melse\u001b[39;00m \u001b[39m-\u001b[39m\u001b[39m1\u001b[39m\n\u001b[1;32m    163\u001b[0m     )\n\u001b[1;32m    164\u001b[0m df\u001b[39m.\u001b[39mdrop([\u001b[39m\"\u001b[39m\u001b[39margs\u001b[39m\u001b[39m\"\u001b[39m], axis\u001b[39m=\u001b[39m\u001b[39m1\u001b[39m, inplace\u001b[39m=\u001b[39m\u001b[39mTrue\u001b[39;00m)\n\u001b[1;32m    165\u001b[0m df\u001b[39m.\u001b[39mrename(columns\u001b[39m=\u001b[39m{\u001b[39m\"\u001b[39m\u001b[39mmemory bandwidth (GB/s)\u001b[39m\u001b[39m\"\u001b[39m: \u001b[39m\"\u001b[39m\u001b[39mmemory_bw_gbps\u001b[39m\u001b[39m\"\u001b[39m}, inplace\u001b[39m=\u001b[39m\u001b[39mTrue\u001b[39;00m)\n",
                        "\u001b[0;31mKeyboardInterrupt\u001b[0m: "
                    ]
                }
            ],
            "source": [
                "# analyzer = TraceAnalysis(trace_dir=str(export_dir))\n",
                "\n",
                "# Temporal breakdown\n",
                "# temporal_breakdown_df = analyzer.get_temporal_breakdown()\n",
                "# temporal_breakdown_df\n",
                "# Idle time breakdown\n",
                "# idle_time_df = analyzer.get_idle_time_breakdown()\n",
                "\n",
                "# # Kernel breakdown\n",
                "# kernel_breakdown_df = analyzer.get_gpu_kernel_breakdown()\n",
                "\n",
                "# # Communication computation overlap\n",
                "# comm_comp_overlap_df = analyzer.get_comm_comp_overlap()\n",
                "\n",
                "# # Memory bandwidth time series\n",
                "# memory_bw_series = analyzer.get_memory_bw_time_series()\n",
                "\n",
                "# # Memory bandwidth summary\n",
                "# memory_bw_summary = analyzer.get_memory_bw_summary()"
            ]
        },
        {
            "cell_type": "markdown",
            "metadata": {},
            "source": []
        }
    ],
    "metadata": {
        "kernelspec": {
            "display_name": ".venv",
            "language": "python",
            "name": "python3"
        },
        "language_info": {
            "codemirror_mode": {
                "name": "ipython",
                "version": 3
            },
            "file_extension": ".py",
            "mimetype": "text/x-python",
            "name": "python",
            "nbconvert_exporter": "python",
            "pygments_lexer": "ipython3",
            "version": "3.11.6"
        }
    },
    "nbformat": 4,
    "nbformat_minor": 2
}
